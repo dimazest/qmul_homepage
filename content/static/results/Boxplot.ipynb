{
 "metadata": {
  "name": ""
 },
 "nbformat": 3,
 "nbformat_minor": 0,
 "worksheets": [
  {
   "cells": [
    {
     "cell_type": "code",
     "collapsed": false,
     "input": [
      "from urllib.request import urlopen\n",
      "from io import StringIO\n",
      "\n",
      "import pandas as pd\n",
      "import matplotlib\n",
      "import numpy"
     ],
     "language": "python",
     "metadata": {},
     "outputs": [],
     "prompt_number": 13
    },
    {
     "cell_type": "code",
     "collapsed": false,
     "input": [
      "pd.__version__"
     ],
     "language": "python",
     "metadata": {},
     "outputs": [
      {
       "metadata": {},
       "output_type": "pyout",
       "prompt_number": 14,
       "text": [
        "'0.13.1'"
       ]
      }
     ],
     "prompt_number": 14
    },
    {
     "cell_type": "code",
     "collapsed": false,
     "input": [
      "numpy.__version__"
     ],
     "language": "python",
     "metadata": {},
     "outputs": [
      {
       "metadata": {},
       "output_type": "pyout",
       "prompt_number": 15,
       "text": [
        "'1.8.0'"
       ]
      }
     ],
     "prompt_number": 15
    },
    {
     "cell_type": "code",
     "collapsed": false,
     "input": [
      "matplotlib.__version__"
     ],
     "language": "python",
     "metadata": {},
     "outputs": [
      {
       "metadata": {},
       "output_type": "pyout",
       "prompt_number": 16,
       "text": [
        "'1.3.1'"
       ]
      }
     ],
     "prompt_number": 16
    },
    {
     "cell_type": "markdown",
     "metadata": {},
     "source": [
      "Retrieve the data. We are interested in the *input* values distribution for the *HIGH* and *LOW* values."
     ]
    },
    {
     "cell_type": "code",
     "collapsed": false,
     "input": [
      "data = urlopen('http://www.cs.ox.ac.uk/activities/compdistmeaning/GS2011data.txt').read().decode('ascii')"
     ],
     "language": "python",
     "metadata": {},
     "outputs": [],
     "prompt_number": 9
    },
    {
     "cell_type": "code",
     "collapsed": false,
     "input": [
      "frame = pd.read_csv(StringIO(data), sep=' ')"
     ],
     "language": "python",
     "metadata": {},
     "outputs": [],
     "prompt_number": 10
    },
    {
     "cell_type": "code",
     "collapsed": false,
     "input": [
      "frame.head()"
     ],
     "language": "python",
     "metadata": {},
     "outputs": [
      {
       "html": [
        "<div style=\"max-height:1000px;max-width:1500px;overflow:auto;\">\n",
        "<table border=\"1\" class=\"dataframe\">\n",
        "  <thead>\n",
        "    <tr style=\"text-align: right;\">\n",
        "      <th></th>\n",
        "      <th>participant</th>\n",
        "      <th>verb</th>\n",
        "      <th>subject</th>\n",
        "      <th>object</th>\n",
        "      <th>landmark</th>\n",
        "      <th>input</th>\n",
        "      <th>hilo</th>\n",
        "    </tr>\n",
        "  </thead>\n",
        "  <tbody>\n",
        "    <tr>\n",
        "      <th>0</th>\n",
        "      <td> participant20</td>\n",
        "      <td> provide</td>\n",
        "      <td>     family</td>\n",
        "      <td>  home</td>\n",
        "      <td> supply</td>\n",
        "      <td> 4</td>\n",
        "      <td> HIGH</td>\n",
        "    </tr>\n",
        "    <tr>\n",
        "      <th>1</th>\n",
        "      <td> participant20</td>\n",
        "      <td> provide</td>\n",
        "      <td> government</td>\n",
        "      <td>  cash</td>\n",
        "      <td>  leave</td>\n",
        "      <td> 3</td>\n",
        "      <td>  LOW</td>\n",
        "    </tr>\n",
        "    <tr>\n",
        "      <th>2</th>\n",
        "      <td> participant20</td>\n",
        "      <td> provide</td>\n",
        "      <td> government</td>\n",
        "      <td>  cash</td>\n",
        "      <td> supply</td>\n",
        "      <td> 7</td>\n",
        "      <td> HIGH</td>\n",
        "    </tr>\n",
        "    <tr>\n",
        "      <th>3</th>\n",
        "      <td> participant20</td>\n",
        "      <td> provide</td>\n",
        "      <td>        man</td>\n",
        "      <td> money</td>\n",
        "      <td>  leave</td>\n",
        "      <td> 6</td>\n",
        "      <td> HIGH</td>\n",
        "    </tr>\n",
        "    <tr>\n",
        "      <th>4</th>\n",
        "      <td> participant20</td>\n",
        "      <td> provide</td>\n",
        "      <td>        man</td>\n",
        "      <td> money</td>\n",
        "      <td> supply</td>\n",
        "      <td> 7</td>\n",
        "      <td> HIGH</td>\n",
        "    </tr>\n",
        "  </tbody>\n",
        "</table>\n",
        "<p>5 rows \u00d7 7 columns</p>\n",
        "</div>"
       ],
       "metadata": {},
       "output_type": "pyout",
       "prompt_number": 11,
       "text": [
        "     participant     verb     subject object landmark  input  hilo\n",
        "0  participant20  provide      family   home   supply      4  HIGH\n",
        "1  participant20  provide  government   cash    leave      3   LOW\n",
        "2  participant20  provide  government   cash   supply      7  HIGH\n",
        "3  participant20  provide         man  money    leave      6  HIGH\n",
        "4  participant20  provide         man  money   supply      7  HIGH\n",
        "\n",
        "[5 rows x 7 columns]"
       ]
      }
     ],
     "prompt_number": 11
    },
    {
     "cell_type": "markdown",
     "metadata": {},
     "source": [
      "The means are calculated correctly."
     ]
    },
    {
     "cell_type": "code",
     "collapsed": false,
     "input": [
      "frame.groupby('hilo').mean()"
     ],
     "language": "python",
     "metadata": {},
     "outputs": [
      {
       "html": [
        "<div style=\"max-height:1000px;max-width:1500px;overflow:auto;\">\n",
        "<table border=\"1\" class=\"dataframe\">\n",
        "  <thead>\n",
        "    <tr style=\"text-align: right;\">\n",
        "      <th></th>\n",
        "      <th>input</th>\n",
        "    </tr>\n",
        "    <tr>\n",
        "      <th>hilo</th>\n",
        "      <th></th>\n",
        "    </tr>\n",
        "  </thead>\n",
        "  <tbody>\n",
        "    <tr>\n",
        "      <th>HIGH</th>\n",
        "      <td> 4.804815</td>\n",
        "    </tr>\n",
        "    <tr>\n",
        "      <th>LOW</th>\n",
        "      <td> 2.497382</td>\n",
        "    </tr>\n",
        "  </tbody>\n",
        "</table>\n",
        "<p>2 rows \u00d7 1 columns</p>\n",
        "</div>"
       ],
       "metadata": {},
       "output_type": "pyout",
       "prompt_number": 12,
       "text": [
        "         input\n",
        "hilo          \n",
        "HIGH  4.804815\n",
        "LOW   2.497382\n",
        "\n",
        "[2 rows x 1 columns]"
       ]
      }
     ],
     "prompt_number": 12
    },
    {
     "cell_type": "markdown",
     "metadata": {},
     "source": [
      "But the plot looks strange."
     ]
    },
    {
     "cell_type": "code",
     "collapsed": false,
     "input": [
      "frame.boxplot(by='hilo')"
     ],
     "language": "python",
     "metadata": {},
     "outputs": [
      {
       "metadata": {},
       "output_type": "pyout",
       "prompt_number": 5,
       "text": [
        "<matplotlib.axes.AxesSubplot at 0x10ab9c2d0>"
       ]
      },
      {
       "metadata": {},
       "output_type": "display_data",
       "png": "[encoded data removed]",
       "text": [
        "<matplotlib.figure.Figure at 0x108325590>"
       ]
      }
     ],
     "prompt_number": 5
    }
   ],
   "metadata": {}
  }
 ]
}